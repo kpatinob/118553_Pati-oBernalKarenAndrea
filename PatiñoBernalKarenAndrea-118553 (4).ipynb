{
 "cells": [
  {
   "cell_type": "code",
   "execution_count": 1,
   "metadata": {},
   "outputs": [
    {
     "name": "stdout",
     "output_type": "stream",
     "text": [
      "ingrese un número entero o decimal: 7.8\n",
      "El valor absoluto de su número es 7.8\n"
     ]
    }
   ],
   "source": [
    "## Ejercicio 1\n",
    "Num = float(input (\"ingrese un número entero o decimal: \"))\n",
    "if Num < 0:\n",
    "    Num = Num * -1\n",
    "print(f\"El valor absoluto de su número es {Num}\")"
   ]
  },
  {
   "cell_type": "code",
   "execution_count": 3,
   "metadata": {},
   "outputs": [
    {
     "name": "stdout",
     "output_type": "stream",
     "text": [
      "ingrese un número entero: 6\n",
      "ingrese un número entero: 13\n",
      "la diferencia es 7 y SI es un numero primo\n"
     ]
    }
   ],
   "source": [
    "## Ejercicio 2\n",
    "Num1 = int(input (\"ingrese un número entero: \"))\n",
    "Num2 = int(input (\"ingrese un número entero: \"))\n",
    "Dif = abs(Num1 - Num2)\n",
    "Check = 0\n",
    "for i in range (2,Dif):\n",
    "    if (Dif % i) == 0:\n",
    "        Check = 1\n",
    "        break\n",
    "if Check == 0:\n",
    "    print(f\"la diferencia es {Dif} y SI es un numero primo\")\n",
    "elif Check == 1:\n",
    "    print(f\"la diferencia es {Dif} y NO es un numero primo\")"
   ]
  },
  {
   "cell_type": "code",
   "execution_count": 4,
   "metadata": {},
   "outputs": [
    {
     "name": "stdout",
     "output_type": "stream",
     "text": [
      "Primeros 15 números multiplos de 3\n",
      "3\n",
      "6\n",
      "9\n",
      "12\n",
      "15\n",
      "18\n",
      "21\n",
      "24\n",
      "27\n",
      "30\n",
      "33\n",
      "36\n",
      "39\n",
      "42\n",
      "45\n",
      "Multiplos de 4\n",
      "48\n",
      "52\n",
      "56\n",
      "60\n",
      "64\n",
      "68\n",
      "72\n",
      "76\n",
      "80\n",
      "84\n",
      "88\n",
      "92\n",
      "96\n",
      "100\n",
      "[3, 6, 9, 12, 15, 18, 21, 24, 27, 30, 33, 36, 39, 42, 45]\n",
      "[48, 52, 56, 60, 64, 68, 72, 76, 80, 84, 88, 92, 96, 100]\n"
     ]
    }
   ],
   "source": [
    "## Ejercicio 3\n",
    "Contador = 0\n",
    "M3 = []\n",
    "M4 = []\n",
    "print(\"Primeros 15 números multiplos de 3\")\n",
    "for i in range (1,101):\n",
    "    if Contador < 15:\n",
    "        if (i % 3) == 0:\n",
    "            print(i)\n",
    "            M3.append(i)\n",
    "            Contador = Contador + 1\n",
    "    elif Contador == 15:\n",
    "        print(\"Multiplos de 4\")\n",
    "        Contador = Contador + 1\n",
    "    elif (i % 4) == 0:\n",
    "        print(i)\n",
    "        M4.append(i)\n",
    "print(M3)\n",
    "print(M4)"
   ]
  },
  {
   "cell_type": "code",
   "execution_count": 5,
   "metadata": {},
   "outputs": [
    {
     "name": "stdout",
     "output_type": "stream",
     "text": [
      "ingrese la cordenada en x del circulo 1: 5\n",
      "ingrese la cordenada en y del circulo 1: 5\n",
      "ingrese el radio del circulo 1: 2\n",
      "ingrese la cordenada en x del circulo 2: 18\n",
      "ingrese la cordenada en y del circulo 2: 18\n",
      "ingrese el radio del circulo 2: 2\n",
      "ingrese la cordenada en x del punto: 19\n",
      "ingrese la cordenada en y del punto: 19\n",
      "el punto esta dentro del circulo 2\n"
     ]
    }
   ],
   "source": [
    "## Ejercicio 4\n",
    "import numpy as np\n",
    "x1 = int(input(\"ingrese la cordenada en x del circulo 1: \"))\n",
    "y1 = int(input(\"ingrese la cordenada en y del circulo 1: \"))\n",
    "r1 = int(input(\"ingrese el radio del circulo 1: \"))\n",
    "x2 = int(input(\"ingrese la cordenada en x del circulo 2: \"))\n",
    "y2 = int(input(\"ingrese la cordenada en y del circulo 2: \"))\n",
    "r2 = int(input(\"ingrese el radio del circulo 2: \"))\n",
    "A = int(input(\"ingrese la cordenada en x del punto: \"))\n",
    "B = int(input(\"ingrese la cordenada en y del punto: \"))\n",
    "D1 = np.sqrt((x1-A)**2 + (y1-B)**2)\n",
    "D2 = np.sqrt((x2-A)**2 + (y2-B)**2)\n",
    "if D1 < r1 and D2 < r2:\n",
    "    print(\"el punto esta dentro de los 2 circulos\")\n",
    "elif D1 < r1:\n",
    "    print(\"el punto esta dentro del circulo 1\")\n",
    "elif D2 < r2:\n",
    "    print(\"el punto esta dentro del circulo 2\")\n",
    "else:\n",
    "    print(\"el punto no esta dentro de ninguno de los circulos\")"
   ]
  },
  {
   "cell_type": "code",
   "execution_count": 6,
   "metadata": {},
   "outputs": [
    {
     "name": "stdout",
     "output_type": "stream",
     "text": [
      "ingrese una cadena de texto: áérmsw  ininAWSE5362\n",
      "el numero de vocales mayusculas con o sin tildes es 2\n",
      "el numero de tildes es 2\n",
      "el numero de numeros es 4\n",
      "el numero de espacios es 2\n",
      "el numero de palabras claves (in) es 2\n"
     ]
    }
   ],
   "source": [
    "## Ejercicio 5\n",
    "import re\n",
    "May = 0\n",
    "Til = 0\n",
    "Num = 0\n",
    "Spa = 0\n",
    "Text = input(\"ingrese una cadena de texto: \")\n",
    "A = Text.count(\"in\")\n",
    "for i in (Text):\n",
    "    if re.match(\"(A|E|I|O|U|Á|É|Í|Ó|Ú)\",i):\n",
    "        May = May + 1\n",
    "    if re.match(\"(Á|É|Í|Ó|Ú|á|é|í|ó|ú)\",i):\n",
    "        Til = Til + 1\n",
    "    if re.match(\"(1|2|3|4|5|6|7|8|9|0)\",i):\n",
    "        Num = Num + 1\n",
    "    if re.match(\"( )\",i):\n",
    "        Spa = Spa + 1\n",
    "print(f\"el numero de vocales mayusculas con o sin tildes es {May}\")\n",
    "print(f\"el numero de tildes es {Til}\")\n",
    "print(f\"el numero de numeros es {Num}\")\n",
    "print(f\"el numero de espacios es {Spa}\")\n",
    "print(f\"el numero de palabras claves (in) es {A}\")"
   ]
  },
  {
   "cell_type": "code",
   "execution_count": 7,
   "metadata": {},
   "outputs": [
    {
     "name": "stdout",
     "output_type": "stream",
     "text": [
      "ingrese una cadena de texto: mi mama me ama\n",
      "['a', 'a', 'a', 'a', 'e', 'i', 'm', 'm', 'm', 'm', 'm']\n"
     ]
    }
   ],
   "source": [
    "## Ejercicio 6\n",
    "Orden = []\n",
    "Texto = input(\"ingrese una cadena de texto: \")\n",
    "Lista = list(Texto)\n",
    "Lista.sort()\n",
    "for i in (Lista):\n",
    "    if i != \" \":\n",
    "        Orden.append(i)\n",
    "print(Orden)"
   ]
  },
  {
   "cell_type": "code",
   "execution_count": 10,
   "metadata": {},
   "outputs": [
    {
     "name": "stdout",
     "output_type": "stream",
     "text": [
      "la lista no esta ordenada, ordenela para continuar\n"
     ]
    }
   ],
   "source": [
    "## Ejercicio 7\n",
    "Lista = [2,2,3,3,5,5,5,5]\n",
    "salir = False\n",
    "for pos,i in enumerate(Lista):\n",
    "    if pos <= Lista[-1]:\n",
    "        if i > Lista[pos+1]:\n",
    "            print(\"la lista no esta ordenada, ordenela para continuar\")\n",
    "            salir = True\n",
    "            break \n",
    "if salir is False:\n",
    "    num = int(input(\"ingrese un numero para ingresar a la lista: \"))\n",
    "    for posi,k in enumerate(Lista):\n",
    "        if num < k:\n",
    "            Lista.insert(posi,num)\n",
    "            break\n",
    "        if k == Lista[-1]:\n",
    "            Lista.append(num)\n",
    "            break\n",
    "    print(Lista)"
   ]
  },
  {
   "cell_type": "code",
   "execution_count": 11,
   "metadata": {},
   "outputs": [
    {
     "name": "stdout",
     "output_type": "stream",
     "text": [
      "El numero mayor es 87\n",
      "El segundo numero mayor es 54\n"
     ]
    }
   ],
   "source": [
    "## Ejercicio 8\n",
    "A = [4,3,6,54,23,87,2,1,3,87,87]\n",
    "\n",
    "Mayr = max(A)\n",
    "B = A.count(Mayr)\n",
    "print(f\"El numero mayor es {Mayr}\")\n",
    "for j in range(0,B):\n",
    "    A.remove(Mayr)\n",
    "May = max(A)\n",
    "print(f\"El segundo numero mayor es {May}\")"
   ]
  },
  {
   "cell_type": "code",
   "execution_count": 13,
   "metadata": {},
   "outputs": [
    {
     "name": "stdout",
     "output_type": "stream",
     "text": [
      "calculo de términos de la sucesión U(n+1) = 3*Un + 1 si Un es impar y U(n+1) = U(n)/2 si Un es par.\n",
      "Dame el valor de u0: 1\n",
      "Cuantos terminos desea: 7\n",
      "[1, 4, 2, 1, 4, 2, 1]\n"
     ]
    }
   ],
   "source": [
    "## Ejercicio 9\n",
    "print(\"calculo de términos de la sucesión U(n+1) = 3*Un + 1 si Un es impar y U(n+1) = U(n)/2 si Un es par.\")\n",
    "u0 = int(input(\"Dame el valor de u0: \"))\n",
    "term = int(input(\"Cuantos terminos desea: \"))\n",
    "Serie= [u0]\n",
    "for t in range(term-1):\n",
    "    if (Serie[t] % 2) != 0:\n",
    "        Serie.append(int((Serie[t]*3)+1))\n",
    "    else:\n",
    "        Serie.append(int(Serie[t]/2))\n",
    "print(Serie)"
   ]
  },
  {
   "cell_type": "code",
   "execution_count": 6,
   "metadata": {},
   "outputs": [
    {
     "name": "stdout",
     "output_type": "stream",
     "text": [
      "[[ 6  5 42 85 11]\n",
      " [88 13 29 52 86]\n",
      " [66 29 89 64 85]\n",
      " [82 57 11 62 35]]\n",
      "\n",
      "[35 62 11 57 82 66 88  6  5 42 85 11 86 85 64 89 29 13 29 52]\n"
     ]
    }
   ],
   "source": [
    "## Ejercicio 10\n",
    "import numpy as np\n",
    "Mat = np.random.randint(1,100,(4,5))\n",
    "print(f\"{Mat}\\n\")\n",
    "Tot1 = Mat[3, :]\n",
    "Tot1 = Tot1[::-1]\n",
    "Mat = np.delete(Mat, 3, axis=0)\n",
    "Tot2 = Mat[:, 0]\n",
    "Tot2 = Tot2[::-1]\n",
    "Mat = np.delete(Mat, 0, axis=1)\n",
    "Tot3 = Mat[0, :]\n",
    "Mat = np.delete(Mat, 0, axis=0)\n",
    "Tot4 = Mat[:, 3]\n",
    "Mat = np.delete(Mat, 3, axis=1)\n",
    "Tot5 = Mat[1, :]\n",
    "Tot5 = Tot5[::-1]\n",
    "Tot6 = Mat[0, :]\n",
    "Tot = np.append(Tot1,Tot2) \n",
    "Tot = np.append(Tot,Tot3)\n",
    "Tot = np.append(Tot,Tot4)\n",
    "Tot = np.append(Tot,Tot5)\n",
    "Tot = np.append(Tot,Tot6) \n",
    "print(Tot)"
   ]
  },
  {
   "cell_type": "code",
   "execution_count": 7,
   "metadata": {},
   "outputs": [
    {
     "name": "stdout",
     "output_type": "stream",
     "text": [
      "Anchura del rectángulo: 5\n",
      "Altura del rectángulo: 4\n",
      "* * * * * \n",
      "* * * * * \n",
      "* * * * * \n",
      "* * * * * \n"
     ]
    }
   ],
   "source": [
    "#Ejercicio número 11\n",
    "anchura = int(input(\"Anchura del rectángulo: \"))\n",
    "altura = int(input(\"Altura del rectángulo: \"))\n",
    "\n",
    "for i in range(altura):\n",
    "    for j in range(anchura):\n",
    "        print(\"* \", end=\"\")\n",
    "    print()"
   ]
  },
  {
   "cell_type": "code",
   "execution_count": 8,
   "metadata": {},
   "outputs": [
    {
     "name": "stdout",
     "output_type": "stream",
     "text": [
      "escriba el ancho del triangulo: 3\n",
      "x\n",
      "xx\n",
      "xxx\n",
      "xx\n",
      "x\n"
     ]
    }
   ],
   "source": [
    "#Ejercicio número 12\n",
    "def fun1(x):\n",
    "    for i in range (1,x+1):\n",
    "        print('x'*i)\n",
    "    for j in range(x-1,0,-1):\n",
    "        print ('x'*j)\n",
    "x = int(input('escriba el ancho del triangulo: '))   \n",
    "fun1(x)\n"
   ]
  },
  {
   "cell_type": "code",
   "execution_count": 15,
   "metadata": {},
   "outputs": [
    {
     "name": "stdout",
     "output_type": "stream",
     "text": [
      "escriba un año inicial: 2000\n",
      "escriba un año final: 2010\n",
      "del año 2000 al año 2010 hay 3 añor bisciestos. \n"
     ]
    }
   ],
   "source": [
    "#Ejercicio número 13\n",
    "def fun():\n",
    "    contar = 0\n",
    "    if a >= b:\n",
    "        print(f'por favor, ingrese un año final mayor: ')\n",
    "    elif a < b: \n",
    "        for i in range(a,b+1):\n",
    "            c = i%4\n",
    "            d = i%100\n",
    "            e = i%400\n",
    "            if c == 0 and d != 0:\n",
    "                contar += 1\n",
    "            elif c == 0 and d == 0 and e == 0:\n",
    "                contar += 1\n",
    "        print(f'del año {a} al año {b} hay {contar} añor bisciestos. ')  \n",
    "a = int(input('escriba un año inicial: '))\n",
    "b = int(input('escriba un año final: '))\n",
    "                \n",
    "fun()"
   ]
  },
  {
   "cell_type": "code",
   "execution_count": 16,
   "metadata": {},
   "outputs": [
    {
     "name": "stdout",
     "output_type": "stream",
     "text": [
      "La suma propuesta es 8 + 46 = \n",
      "Digita el valor de la suma =  54\n",
      "¡RESPUESTA CORRECTA!, la suma es =   54\n",
      "Has tenido 1 sumas buenas \n",
      "La suma propuesta es 83 + 72 = \n",
      "Digita el valor de la suma =  23\n",
      "¡INCORRECTO!, vuelve a intentarlo \n",
      "La suma propuesta es 70 + 70 = \n",
      "Digita el valor de la suma =  140\n",
      "¡RESPUESTA CORRECTA!, la suma es =   140\n",
      "Has tenido 2 sumas buenas \n",
      "La suma propuesta es 90 + 60 = \n",
      "Digita el valor de la suma =  150\n",
      "¡RESPUESTA CORRECTA!, la suma es =   150\n",
      "Has tenido 3 sumas buenas \n",
      "La suma propuesta es 77 + 49 = \n",
      "Digita el valor de la suma =  150\n",
      "¡INCORRECTO!, vuelve a intentarlo \n",
      "La suma propuesta es 68 + 64 = \n",
      "Digita el valor de la suma =  132\n",
      "¡RESPUESTA CORRECTA!, la suma es =   132\n",
      "Has tenido 4 sumas buenas \n",
      "La suma propuesta es 23 + 81 = \n",
      "Digita el valor de la suma =  104\n",
      "¡RESPUESTA CORRECTA!, la suma es =   104\n",
      "Has tenido 5 sumas buenas \n",
      "¡FELICIDADES, TERMINASTE!\n"
     ]
    }
   ],
   "source": [
    "#Ejercicio número 14\n",
    "import random as ran    \n",
    "def fun():  \n",
    "    '''Esta función define la suma de 2 numeros entre 1 y 100'''       \n",
    "   \n",
    "    aciertos = 5\n",
    "    \n",
    "    while aciertos > 0:       \n",
    "                                    \n",
    "        num1 = ran.randint(1,100) \n",
    "        num2 = ran.randint(1,100)\n",
    "        suma = num1+num2\n",
    "        \n",
    "        print(f\"La suma propuesta es {num1} + {num2} = \")\n",
    "        a = float(input(\"Digita el valor de la suma =  \"))\n",
    "        if a == suma:\n",
    "            print(\"¡RESPUESTA CORRECTA!, la suma es =  \",suma) \n",
    "            aciertos = aciertos -1 \n",
    "            f = 5 - aciertos \n",
    "            print(f\"Has tenido {f} sumas buenas \")\n",
    "        else:\n",
    "                  print(\"¡INCORRECTO!, vuelve a intentarlo \")\n",
    "                  \n",
    "    print(\"¡FELICIDADES, TERMINASTE!\")       \n",
    "         \n",
    "fun()       "
   ]
  },
  {
   "cell_type": "code",
   "execution_count": null,
   "metadata": {},
   "outputs": [
    {
     "name": "stdout",
     "output_type": "stream",
     "text": [
      "diga la longitud de la cadena: 4\n",
      "intente adivinar la cadena: 1234\n",
      "con 1234 ha adivinado 0 valores. intente adivinar la cadena: 1243\n",
      "con 1243 ha adivinado 0 valores. intente adivinar la cadena: 1324\n",
      "con 1324 ha adivinado 1 valores. intente adivinar la cadena: 4321\n",
      "con 4321 ha adivinado 1 valores. intente adivinar la cadena: 2134\n",
      "con 2134 ha adivinado 0 valores. intente adivinar la cadena: 3124\n"
     ]
    }
   ],
   "source": [
    "#Ejercicio número 15\n",
    "import random as rn \n",
    "longitud = int(input('diga la longitud de la cadena: '))\n",
    "def fun():\n",
    "    contador_intentos=0\n",
    "    numero1 =''\n",
    "    if longitud >= 2 and longitud <= 9:\n",
    "        for i in range(longitud):\n",
    "            a = rn.randint(0,9)\n",
    "            num = str(a)\n",
    "            numero1 = numero1 + num\n",
    "        usuario = input('intente adivinar la cadena: ')  \n",
    "        contador_intentos += 1\n",
    "        len_usuario = len(usuario)\n",
    "        \n",
    "        while len_usuario != longitud:\n",
    "            usuario = input('la longitud de la cadena ingresada es diferente a la inicial. intente adivinar la cadena: ')\n",
    "            len_usuario = len(usuario)\n",
    "        aciertos = 0\n",
    "        while aciertos < longitud: \n",
    "            aciertos = 0\n",
    "            for j in range(longitud):\n",
    "                if numero1[j] == usuario [j]:\n",
    "                    aciertos = aciertos + 1\n",
    "            if aciertos == longitud: \n",
    "                print(f'con {usuario} ha adivinado {aciertos} valores.')\n",
    "                print('numero de intentos: ',contador_intentos)\n",
    "                break\n",
    "            else: \n",
    "                usuario = input(f'con {usuario} ha adivinado {aciertos} valores. intente adivinar la cadena: ')\n",
    "                contador_intentos += 1\n",
    "                len_usuario = len(usuario)\n",
    "                while len_usuario != longitud: \n",
    "                    usuario = input('la longitud de la cadena ingresada es diferente a la inicial. intente adivinar la cadena: ')\n",
    "                    len_usuario = len(usuario)\n",
    "        else: \n",
    "            print('la longitud de la cadena ingresada no se encuentra dentro del parametro del ejercicio.')\n",
    "fun()            \n",
    "                \n",
    "                                \n",
    "        \n",
    "            \n",
    "        "
   ]
  },
  {
   "cell_type": "code",
   "execution_count": null,
   "metadata": {},
   "outputs": [],
   "source": []
  }
 ],
 "metadata": {
  "kernelspec": {
   "display_name": "Python 3",
   "language": "python",
   "name": "python3"
  },
  "language_info": {
   "codemirror_mode": {
    "name": "ipython",
    "version": 3
   },
   "file_extension": ".py",
   "mimetype": "text/x-python",
   "name": "python",
   "nbconvert_exporter": "python",
   "pygments_lexer": "ipython3",
   "version": "3.7.4"
  }
 },
 "nbformat": 4,
 "nbformat_minor": 2
}
